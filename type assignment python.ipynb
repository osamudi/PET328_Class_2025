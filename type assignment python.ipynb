{
 "cells": [
  {
   "cell_type": "markdown",
   "id": "c3e87412",
   "metadata": {},
   "source": [
    "## A script to classify and count 'active' and 'inactive' gridblocks in a discretized reservoir"
   ]
  },
  {
   "cell_type": "code",
   "execution_count": null,
   "id": "a53afb20",
   "metadata": {},
   "outputs": [],
   "source": [
    "#################### Task 1 ############################\n",
    "# Collect input from the user for reservoir grid setup\n",
    "nz = int(input(\"How many vertical layers does the reservoir have? (Nz): \"))\n",
    "ny = int(input(\"Specify the number of rows across the grid (Ny): \"))\n",
    "nx = int(input(\"Specify the number of columns across the grid (Nx): \"))"
   ]
  },
  {
   "cell_type": "code",
   "execution_count": null,
   "id": "559de93e",
   "metadata": {},
   "outputs": [],
   "source": [
    "\n",
    "\n",
    "#################### Task 2 ############################\n",
    "# Get the permeability threshold value from the user\n",
    "cutoff = float(input(\"Please provide the cut-off value for permeability: \"))"
   ]
  },
  {
   "cell_type": "code",
   "execution_count": null,
   "id": "81bee451",
   "metadata": {},
   "outputs": [],
   "source": [
    "#################### Task 3 ############################\n",
    "# Set up counters to track active and inactive cells\n",
    "total_active = 0\n",
    "total_inactive = 0"
   ]
  },
  {
   "cell_type": "code",
   "execution_count": null,
   "id": "dd77006a",
   "metadata": {},
   "outputs": [],
   "source": [
    "#################### Task 4 ############################\n",
    "# Traverse each grid block using nested loops\n",
    "for k in range(1, nz + 1):\n",
    "    current_layer_active = 0\n",
    "    for j in range(1, ny + 1):\n",
    "        for i in range(1, nx + 1):\n",
    "            perm = float(input(f\"Provide permeability for Layer {k}, Row {j}, Column {i}: \"))\n",
    "            if perm >= cutoff:\n",
    "                total_active += 1\n",
    "                current_layer_active += 1\n",
    "            else:\n",
    "                total_inactive += 1\n",
    "    print(f\"Layer {k}: Number of active grid blocks = {current_layer_active}\")"
   ]
  },
  {
   "cell_type": "code",
   "execution_count": null,
   "id": "ec00ce2a",
   "metadata": {},
   "outputs": [],
   "source": [
    "#################### Task 5 ############################\n",
    "# Display the final summary of gridblock counts\n",
    "total_blocks = nz * ny * nx\n",
    "active_percent = (total_active / total_blocks) * 100\n",
    "\n",
    "print(f\"Total number of active grid blocks: {total_active}\")\n",
    "print(f\"Total number of inactive grid blocks: {total_inactive}\")\n",
    "print(f\"Active grid blocks make up: {active_percent:.2f}% of the total\")pm. "
   ]
  }
 ],
 "metadata": {
  "kernelspec": {
   "display_name": "Python 3 (ipykernel)",
   "language": "python",
   "name": "python3"
  },
  "language_info": {
   "codemirror_mode": {
    "name": "ipython",
    "version": 3
   },
   "file_extension": ".py",
   "mimetype": "text/x-python",
   "name": "python",
   "nbconvert_exporter": "python",
   "pygments_lexer": "ipython3",
   "version": "3.9.12"
  }
 },
 "nbformat": 4,
 "nbformat_minor": 5
}
